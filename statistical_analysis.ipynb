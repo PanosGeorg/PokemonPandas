{
 "cells": [
  {
   "cell_type": "code",
   "execution_count": null,
   "metadata": {},
   "outputs": [],
   "source": [
    "import pandas as pd\n",
    "import numpy as np\n",
    "import matplotlib.pyplot as plt\n",
    "\n",
    "# importing the csv and printing the first rows\n",
    "pk = pd.read_csv('pokemon_data.csv')\n",
    "pk.head(5)"
   ]
  },
  {
   "cell_type": "code",
   "execution_count": null,
   "metadata": {},
   "outputs": [],
   "source": [
    "#cleaning the dataframe and reseting the index\n",
    "\n",
    "pk = pk.dropna()\n",
    "pk.reset_index(drop = True, inplace=True)\n",
    "pk.head(5)"
   ]
  },
  {
   "cell_type": "code",
   "execution_count": null,
   "metadata": {},
   "outputs": [],
   "source": [
    "# showing the average value of each stat \n",
    "\n",
    "print('Average HP of the Pokemon is {:.2f}'.format(pk['HP'].mean()))\n",
    "print('Average Attack of the Pokemon is {:.2f}'.format(pk['Attack'].mean()))\n",
    "print('Average Defense of the Pokemon is {:.2f}'.format(pk['Defense'].mean()))\n",
    "print('Average Attack Speed of the Pokemon is {:.2f}'.format(pk['Sp. Atk'].mean()))\n",
    "print('Average Defense Speed of the Pokemon is {:.2f}'.format(pk['Sp. Def'].mean()))\n",
    "print('Average Speed of the Pokemon is {:.2f}'.format(pk['Speed'].mean()))"
   ]
  },
  {
   "cell_type": "code",
   "execution_count": null,
   "metadata": {},
   "outputs": [],
   "source": [
    "# making a plot for the 20 first Pokemons' Attack, Defense and HP\n",
    "\n",
    "plotcolumns = ['Attack', 'Defense', 'HP']\n",
    "\n",
    "pk.iloc[:20][plotcolumns].plot()\n",
    "plt.show()"
   ]
  },
  {
   "cell_type": "code",
   "execution_count": null,
   "metadata": {},
   "outputs": [],
   "source": [
    "# Making 2 scatter plots to show the correlation between speed and attack, and HP and Defense\n",
    "\n",
    "pk.plot(kind = 'scatter', x = 'Attack', y = 'Speed')\n",
    "plt.title('Speed and Attack')\n",
    "plt.show()\n",
    "\n",
    "pk.plot(kind = 'scatter', x = 'HP', y = 'Defense')\n",
    "plt.title('HP and Defense')\n",
    "plt.show()"
   ]
  },
  {
   "cell_type": "code",
   "execution_count": null,
   "metadata": {},
   "outputs": [],
   "source": [
    "# making a histogram, showing the distribution of the Attack stat among the pokemon\n",
    "\n",
    "pk[\"Attack\"].plot(kind = 'hist')"
   ]
  }
 ],
 "metadata": {
  "kernelspec": {
   "display_name": "Python 3",
   "language": "python",
   "name": "python3"
  },
  "language_info": {
   "codemirror_mode": {
    "name": "ipython",
    "version": 3
   },
   "file_extension": ".py",
   "mimetype": "text/x-python",
   "name": "python",
   "nbconvert_exporter": "python",
   "pygments_lexer": "ipython3",
   "version": "3.12.0"
  }
 },
 "nbformat": 4,
 "nbformat_minor": 2
}
