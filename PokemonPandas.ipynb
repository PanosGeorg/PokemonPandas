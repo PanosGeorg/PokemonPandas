{
 "cells": [
  {
   "cell_type": "code",
   "execution_count": null,
   "metadata": {},
   "outputs": [],
   "source": [
    "# importing the pandas library\n",
    "import pandas as pd \n",
    "\n",
    "# loading the csv dataset into a df dataframe\n",
    "df = pd.read_csv('pokemon_data.csv')\n",
    "\n",
    "#printing the first three rows\n",
    "print(df.head(3))\n",
    "\n",
    "# gets basic values of the dataframe such as means, counts, quantiles etc\n",
    "df.describe()"
   ]
  },
  {
   "cell_type": "code",
   "execution_count": null,
   "metadata": {},
   "outputs": [],
   "source": [
    "# prints the headers of the dataset\n",
    "print(df.columns)\n",
    "\n",
    "# prints specific columns of the dataset\n",
    "print(df[['Name', 'Type 1', 'HP']].head())\n",
    "\n",
    "# prints a specific row of the dataset\n",
    "print(df.iloc[1])\n",
    "\n",
    "# prints a specific position on the dataset\n",
    "print(df.iloc[2,1])"
   ]
  },
  {
   "cell_type": "code",
   "execution_count": null,
   "metadata": {},
   "outputs": [],
   "source": [
    "# iterrating through each row and priting a value\n",
    "for index, row in df.iterrows():\n",
    "    print(index, row['Name'])\n",
    "\n",
    "# find rows with specific data values\n",
    "df.loc[df['Type 1'] == 'Fire']\n"
   ]
  },
  {
   "cell_type": "code",
   "execution_count": null,
   "metadata": {},
   "outputs": [],
   "source": [
    "# sorts the dataframy by name\n",
    "df.sort_values('Name', ascending=False)\n",
    "\n",
    "# sorts by two seperate criteria, first Type 1 and then HP \n",
    "# with the first ascenting and the second descending\n",
    "df.sort_values(['Type 1', 'HP'], ascending=[1,0])\n",
    "\n"
   ]
  },
  {
   "cell_type": "code",
   "execution_count": null,
   "metadata": {},
   "outputs": [],
   "source": [
    "# makes a new column, with the total stats\n",
    "df['Total'] = df[\"HP\"] + df[\"Attack\"] + df[\"Defense\"] + df[\"Sp. Atk\"] + df[\"Sp. Def\"] + df[\"Speed\"] \n",
    "\n",
    "# or can be also done like this\n",
    "#df['Total'] = df.iloc[:, 4:10].sum(axis=1)\n",
    "\n",
    "# makes the new column show up in whichever place is needed, not in the end\n",
    "cols = list(df.columns.values)\n",
    "df = df[cols[0:4] + [cols[-1]] + cols[4:12]]\n",
    "\n",
    "# sorts the dataframe by the new column, sorting from high to low\n",
    "#df.sort_values('Total', ascending=False)\n",
    "print(df)\n"
   ]
  },
  {
   "cell_type": "code",
   "execution_count": null,
   "metadata": {},
   "outputs": [],
   "source": [
    "# drops the total column\n",
    "df = df.drop(columns=['Total'])\n",
    "print(df)"
   ]
  },
  {
   "cell_type": "code",
   "execution_count": null,
   "metadata": {},
   "outputs": [],
   "source": [
    "# saves the modified csv to a new one\n",
    "# while also removing the index\n",
    "df.dropna()\n",
    "df.to_csv('modified.csv', index = False)"
   ]
  },
  {
   "cell_type": "code",
   "execution_count": null,
   "metadata": {},
   "outputs": [],
   "source": [
    "# makes a new dataframe under some conditions\n",
    "new_df = df.loc[(df['Type 1'] == 'Grass') & (df['Type 2'] == 'Poison') & (df['HP'] > 70)]\n",
    "\n",
    "#resets the index so that it increases by 1\n",
    "new_df.reset_index(drop = True, inplace=True)\n",
    "new_df\n",
    "# passes the dataframe to a new csv\n",
    "new_df.to_csv('filtered.csv')"
   ]
  },
  {
   "cell_type": "code",
   "execution_count": null,
   "metadata": {},
   "outputs": [],
   "source": [
    "import re\n",
    "\n",
    "# prints every row where the name contains Mega\n",
    "df.loc[df['Name'].str.contains('Mega')]\n",
    "\n",
    "# hides every row where the name contains Mega\n",
    "df.loc[~df['Name'].str.contains('Mega')]\n",
    "\n",
    "# uses regular expressions to show every row where Type 1 is either Fire or Grass\n",
    "df.loc[df['Type 1'].str.contains('Fire|Grass', regex=True)]"
   ]
  },
  {
   "cell_type": "code",
   "execution_count": null,
   "metadata": {},
   "outputs": [],
   "source": [
    "# changing specific values to something else\n",
    "df.loc[df['Type 1'] == 'Fire', 'Type 1'] = 'Flamer'\n",
    "print(df)"
   ]
  }
 ],
 "metadata": {
  "kernelspec": {
   "display_name": "Python 3",
   "language": "python",
   "name": "python3"
  },
  "language_info": {
   "codemirror_mode": {
    "name": "ipython",
    "version": 3
   },
   "file_extension": ".py",
   "mimetype": "text/x-python",
   "name": "python",
   "nbconvert_exporter": "python",
   "pygments_lexer": "ipython3",
   "version": "3.12.0"
  }
 },
 "nbformat": 4,
 "nbformat_minor": 2
}
